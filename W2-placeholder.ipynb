{
  "nbformat": 4,
  "nbformat_minor": 0,
  "metadata": {
    "colab": {
      "name": "Untitled0.ipynb",
      "provenance": [],
      "authorship_tag": "ABX9TyN12+f3NnQqbO5e8vsAY2Er",
      "include_colab_link": true
    },
    "kernelspec": {
      "name": "python3",
      "display_name": "Python 3"
    },
    "language_info": {
      "name": "python"
    }
  },
  "cells": [
    {
      "cell_type": "markdown",
      "metadata": {
        "id": "view-in-github",
        "colab_type": "text"
      },
      "source": [
        "<a href=\"https://colab.research.google.com/github/gauduv/PRA3024-MSP/blob/main/W2-placeholder.ipynb\" target=\"_parent\"><img src=\"https://colab.research.google.com/assets/colab-badge.svg\" alt=\"Open In Colab\"/></a>"
      ]
    },
    {
      "cell_type": "markdown",
      "source": [
        "**READ ME**\n",
        "\n",
        "due to physical and mental health issues, I have not been able to properly follow the course until now, nor to benefit from any in-person help,nor to have the necessary time to work on this assignment.\n",
        "\n",
        "thus, this is only a èlaceholder in hope of an additional module to replace the grade.\n",
        "\n",
        "no need to waste time correcting this. please use the opportunity to take a break.\n",
        "\n",
        "sincerely, \n",
        "\n",
        "Eliott\n",
        "\n",
        "\n",
        "\n",
        "\n",
        "\n"
      ],
      "metadata": {
        "id": "oIA3IA1fqhWn"
      }
    },
    {
      "cell_type": "markdown",
      "source": [
        "initialisation, credits to Ayatri Singha, (GWFP, Maastricht University)"
      ],
      "metadata": {
        "id": "e6-zoE-oOjcG"
      }
    },
    {
      "cell_type": "code",
      "execution_count": 6,
      "metadata": {
        "id": "wrQ44jDANTxD"
      },
      "outputs": [],
      "source": [
        "! pip install -q 'gwosc==0.5.4'\n",
        "! pip install -q 'gwpy==2.0.2'\n",
        "! pip install -q lalsuite\n",
        "! pip install -q pycbc\n",
        "! pip install matplotlib\n",
        "\n",
        "# -- Click \"restart runtime\" in the runtime menu\n"
      ]
    },
    {
      "cell_type": "code",
      "source": [
        ""
      ],
      "metadata": {
        "id": "oTm8SzyHauHp"
      },
      "execution_count": null,
      "outputs": []
    },
    {
      "cell_type": "code",
      "source": [
        "\n",
        "\n",
        "import gwosc\n",
        "print(gwosc.__version__)\n",
        "\n",
        "import gwpy\n",
        "print(gwpy.__version__)\n",
        "\n",
        "\n",
        "# -- download data\n",
        "! wget https://www.gw-openscience.org/s/workshop3/challenge/challenge3.gwf\n",
        "# -- for gwpy\n",
        "from gwpy.timeseries import TimeSeries\n",
        "\n",
        "# -- for pycbc\n",
        "from pycbc import frame\n",
        "pycbc_strain = frame.read_frame('challenge3.gwf', 'H1:CHALLENGE3')\n",
        "import matplotlib.pyplot as plot\n",
        "import numpy as np"
      ],
      "metadata": {
        "colab": {
          "base_uri": "https://localhost:8080/"
        },
        "id": "SXKL75zBSfrM",
        "outputId": "da4c5a22-a664-45b8-b7e8-85fd18c55340"
      },
      "execution_count": 1,
      "outputs": [
        {
          "output_type": "stream",
          "name": "stdout",
          "text": [
            "0.5.4\n",
            "2.0.2\n",
            "--2022-02-14 23:07:55--  https://www.gw-openscience.org/s/workshop3/challenge/challenge3.gwf\n",
            "Resolving www.gw-openscience.org (www.gw-openscience.org)... 131.215.113.73\n",
            "Connecting to www.gw-openscience.org (www.gw-openscience.org)|131.215.113.73|:443... connected.\n",
            "HTTP request sent, awaiting response... 200 OK\n",
            "Length: 256815066 (245M)\n",
            "Saving to: ‘challenge3.gwf.5’\n",
            "\n",
            "challenge3.gwf.5    100%[===================>] 244.92M  23.2MB/s    in 96s     \n",
            "\n",
            "2022-02-14 23:09:31 (2.55 MB/s) - ‘challenge3.gwf.5’ saved [256815066/256815066]\n",
            "\n"
          ]
        }
      ]
    },
    {
      "cell_type": "code",
      "source": [
        ""
      ],
      "metadata": {
        "id": "9nPPudEEa5Xh"
      },
      "execution_count": 1,
      "outputs": []
    },
    {
      "cell_type": "code",
      "source": [
        "gwpy_strain = TimeSeries.read('challenge3.gwf', channel=\"H1:CHALLENGE3\")\n",
        "print(gwpy_strain)\n",
        "%matplotlib inline\n",
        "\n",
        "fig, Fig = plot.subplots()\n",
        "Fig.plot(gwpy_strain)\n",
        "plot.show()"
      ],
      "metadata": {
        "colab": {
          "base_uri": "https://localhost:8080/",
          "height": 421
        },
        "id": "jM9JqEzeOhti",
        "outputId": "3e01f7b0-67fa-4fc9-c7a0-f36ce38c8dd4"
      },
      "execution_count": 5,
      "outputs": [
        {
          "output_type": "stream",
          "name": "stdout",
          "text": [
            "TimeSeries([-3.04517369e-19, -3.35465069e-19, -3.35210566e-19,\n",
            "            ...,  4.46471052e-19,  5.07624678e-19,\n",
            "             4.98623016e-19]\n",
            "           unit: ct,\n",
            "           t0: 0.0 s,\n",
            "           dt: 0.000244140625 s,\n",
            "           name: H1:CHALLENGE3,\n",
            "           channel: H1:CHALLENGE3)\n"
          ]
        },
        {
          "output_type": "display_data",
          "data": {
            "image/png": "[encoded data removed]",
            "text/plain": [
              "<Figure size 432x288 with 1 Axes>"
            ]
          },
          "metadata": {
            "needs_background": "light"
          }
        }
      ]
    },
    {
      "cell_type": "code",
      "source": [
        "fft = gwpy_strain.fft()\n",
        "print(fft)"
      ],
      "metadata": {
        "colab": {
          "base_uri": "https://localhost:8080/"
        },
        "id": "l8ogvAaGTLwD",
        "outputId": "d4dcd0c3-14e0-48d0-fccf-49de393a71e5"
      },
      "execution_count": 8,
      "outputs": [
        {
          "output_type": "stream",
          "name": "stdout",
          "text": [
            "FrequencySeries([ 4.06560903e-24+0.00000000e+00j,\n",
            "                  7.18172592e-24+2.06456207e-25j,\n",
            "                  7.59976057e-24+1.06652053e-24j, ...,\n",
            "                 -4.42661784e-26+1.34225018e-27j,\n",
            "                 -4.71835878e-26-1.05810046e-27j,\n",
            "                 -4.62798736e-26+0.00000000e+00j]\n",
            "                unit: ct,\n",
            "                f0: 0.0 Hz,\n",
            "                df: 0.000244140625 Hz,\n",
            "                epoch: 0.0,\n",
            "                name: H1:CHALLENGE3,\n",
            "                channel: H1:CHALLENGE3)\n"
          ]
        }
      ]
    },
    {
      "cell_type": "code",
      "source": [
        "Fig = fft.abs().plot(xscale=\"log\", yscale=\"log\")\n",
        "Fig.show(warn=False)\n",
        "\n",
        "fig, Fig = plot.subplots()\n",
        "Fig.plot(gwpy_strain)\n",
        "plot.show()"
      ],
      "metadata": {
        "colab": {
          "base_uri": "https://localhost:8080/",
          "height": 432
        },
        "id": "3v4NS0xKTQM2",
        "outputId": "8ae52005-1e6c-4d8e-b019-9262cd43aa00"
      },
      "execution_count": 13,
      "outputs": [
        {
          "output_type": "error",
          "ename": "AttributeError",
          "evalue": "ignored",
          "traceback": [
            "\u001b[0;31m---------------------------------------------------------------------------\u001b[0m",
            "\u001b[0;31mAttributeError\u001b[0m                            Traceback (most recent call last)",
            "\u001b[0;32m/usr/local/lib/python3.7/dist-packages/gwpy/plot/plot.py\u001b[0m in \u001b[0;36m_init_figure\u001b[0;34m(self, **kwargs)\u001b[0m\n\u001b[1;32m    129\u001b[0m         \u001b[0;32mtry\u001b[0m\u001b[0;34m:\u001b[0m\u001b[0;34m\u001b[0m\u001b[0;34m\u001b[0m\u001b[0m\n\u001b[0;32m--> 130\u001b[0;31m             \u001b[0mmanager\u001b[0m \u001b[0;34m=\u001b[0m \u001b[0mbackend_mod\u001b[0m\u001b[0;34m.\u001b[0m\u001b[0mnew_figure_manager_given_figure\u001b[0m\u001b[0;34m(\u001b[0m\u001b[0mnum\u001b[0m\u001b[0;34m,\u001b[0m \u001b[0mself\u001b[0m\u001b[0;34m)\u001b[0m\u001b[0;34m\u001b[0m\u001b[0;34m\u001b[0m\u001b[0m\n\u001b[0m\u001b[1;32m    131\u001b[0m         \u001b[0;32mexcept\u001b[0m \u001b[0mAttributeError\u001b[0m\u001b[0;34m:\u001b[0m\u001b[0;34m\u001b[0m\u001b[0;34m\u001b[0m\u001b[0m\n",
            "\u001b[0;31mAttributeError\u001b[0m: module 'ipykernel.pylab.backend_inline' has no attribute 'new_figure_manager_given_figure'",
            "\nDuring handling of the above exception, another exception occurred:\n",
            "\u001b[0;31mAttributeError\u001b[0m                            Traceback (most recent call last)",
            "\u001b[0;32m<ipython-input-13-8fc420499bf9>\u001b[0m in \u001b[0;36m<module>\u001b[0;34m()\u001b[0m\n\u001b[0;32m----> 1\u001b[0;31m \u001b[0mFig\u001b[0m \u001b[0;34m=\u001b[0m \u001b[0mfft\u001b[0m\u001b[0;34m.\u001b[0m\u001b[0mabs\u001b[0m\u001b[0;34m(\u001b[0m\u001b[0;34m)\u001b[0m\u001b[0;34m.\u001b[0m\u001b[0mplot\u001b[0m\u001b[0;34m(\u001b[0m\u001b[0mxscale\u001b[0m\u001b[0;34m=\u001b[0m\u001b[0;34m\"log\"\u001b[0m\u001b[0;34m,\u001b[0m \u001b[0myscale\u001b[0m\u001b[0;34m=\u001b[0m\u001b[0;34m\"log\"\u001b[0m\u001b[0;34m)\u001b[0m\u001b[0;34m\u001b[0m\u001b[0;34m\u001b[0m\u001b[0m\n\u001b[0m\u001b[1;32m      2\u001b[0m \u001b[0mFig\u001b[0m\u001b[0;34m.\u001b[0m\u001b[0mshow\u001b[0m\u001b[0;34m(\u001b[0m\u001b[0mwarn\u001b[0m\u001b[0;34m=\u001b[0m\u001b[0;32mFalse\u001b[0m\u001b[0;34m)\u001b[0m\u001b[0;34m\u001b[0m\u001b[0;34m\u001b[0m\u001b[0m\n\u001b[1;32m      3\u001b[0m \u001b[0;34m\u001b[0m\u001b[0m\n\u001b[1;32m      4\u001b[0m \u001b[0mfig\u001b[0m\u001b[0;34m,\u001b[0m \u001b[0mFig\u001b[0m \u001b[0;34m=\u001b[0m \u001b[0mplot\u001b[0m\u001b[0;34m.\u001b[0m\u001b[0msubplots\u001b[0m\u001b[0;34m(\u001b[0m\u001b[0;34m)\u001b[0m\u001b[0;34m\u001b[0m\u001b[0;34m\u001b[0m\u001b[0m\n\u001b[1;32m      5\u001b[0m \u001b[0mFig\u001b[0m\u001b[0;34m.\u001b[0m\u001b[0mplot\u001b[0m\u001b[0;34m(\u001b[0m\u001b[0;34m)\u001b[0m\u001b[0;34m\u001b[0m\u001b[0;34m\u001b[0m\u001b[0m\n",
            "\u001b[0;32m/usr/local/lib/python3.7/dist-packages/gwpy/frequencyseries/frequencyseries.py\u001b[0m in \u001b[0;36mplot\u001b[0;34m(self, xscale, **kwargs)\u001b[0m\n\u001b[1;32m    202\u001b[0m \u001b[0;34m\u001b[0m\u001b[0m\n\u001b[1;32m    203\u001b[0m         \u001b[0mkwargs\u001b[0m\u001b[0;34m.\u001b[0m\u001b[0mupdate\u001b[0m\u001b[0;34m(\u001b[0m\u001b[0mxscale\u001b[0m\u001b[0;34m=\u001b[0m\u001b[0mxscale\u001b[0m\u001b[0;34m)\u001b[0m\u001b[0;34m\u001b[0m\u001b[0;34m\u001b[0m\u001b[0m\n\u001b[0;32m--> 204\u001b[0;31m         \u001b[0;32mreturn\u001b[0m \u001b[0msuper\u001b[0m\u001b[0;34m(\u001b[0m\u001b[0;34m)\u001b[0m\u001b[0;34m.\u001b[0m\u001b[0mplot\u001b[0m\u001b[0;34m(\u001b[0m\u001b[0;34m**\u001b[0m\u001b[0mkwargs\u001b[0m\u001b[0;34m)\u001b[0m\u001b[0;34m\u001b[0m\u001b[0;34m\u001b[0m\u001b[0m\n\u001b[0m\u001b[1;32m    205\u001b[0m \u001b[0;34m\u001b[0m\u001b[0m\n\u001b[1;32m    206\u001b[0m     \u001b[0;32mdef\u001b[0m \u001b[0mifft\u001b[0m\u001b[0;34m(\u001b[0m\u001b[0mself\u001b[0m\u001b[0;34m)\u001b[0m\u001b[0;34m:\u001b[0m\u001b[0;34m\u001b[0m\u001b[0;34m\u001b[0m\u001b[0m\n",
            "\u001b[0;32m/usr/local/lib/python3.7/dist-packages/gwpy/types/series.py\u001b[0m in \u001b[0;36mplot\u001b[0;34m(self, method, **kwargs)\u001b[0m\n\u001b[1;32m    452\u001b[0m \u001b[0;34m\u001b[0m\u001b[0m\n\u001b[1;32m    453\u001b[0m         \u001b[0;31m# make plot\u001b[0m\u001b[0;34m\u001b[0m\u001b[0;34m\u001b[0m\u001b[0;34m\u001b[0m\u001b[0m\n\u001b[0;32m--> 454\u001b[0;31m         \u001b[0mplot\u001b[0m \u001b[0;34m=\u001b[0m \u001b[0mPlot\u001b[0m\u001b[0;34m(\u001b[0m\u001b[0mself\u001b[0m\u001b[0;34m,\u001b[0m \u001b[0mmethod\u001b[0m\u001b[0;34m=\u001b[0m\u001b[0mmethod\u001b[0m\u001b[0;34m,\u001b[0m \u001b[0;34m**\u001b[0m\u001b[0mkwargs\u001b[0m\u001b[0;34m)\u001b[0m\u001b[0;34m\u001b[0m\u001b[0;34m\u001b[0m\u001b[0m\n\u001b[0m\u001b[1;32m    455\u001b[0m \u001b[0;34m\u001b[0m\u001b[0m\n\u001b[1;32m    456\u001b[0m         \u001b[0;31m# set default y-axis label (xlabel is set by Plot())\u001b[0m\u001b[0;34m\u001b[0m\u001b[0;34m\u001b[0m\u001b[0;34m\u001b[0m\u001b[0m\n",
            "\u001b[0;32m/usr/local/lib/python3.7/dist-packages/gwpy/plot/plot.py\u001b[0m in \u001b[0;36m__init__\u001b[0;34m(self, *data, **kwargs)\u001b[0m\n\u001b[1;32m    106\u001b[0m         figure_kw = {key: kwargs.pop(key) for key in utils.FIGURE_PARAMS if\n\u001b[1;32m    107\u001b[0m                      key in kwargs}\n\u001b[0;32m--> 108\u001b[0;31m         \u001b[0mself\u001b[0m\u001b[0;34m.\u001b[0m\u001b[0m_init_figure\u001b[0m\u001b[0;34m(\u001b[0m\u001b[0;34m**\u001b[0m\u001b[0mfigure_kw\u001b[0m\u001b[0;34m)\u001b[0m\u001b[0;34m\u001b[0m\u001b[0;34m\u001b[0m\u001b[0m\n\u001b[0m\u001b[1;32m    109\u001b[0m \u001b[0;34m\u001b[0m\u001b[0m\n\u001b[1;32m    110\u001b[0m         \u001b[0;31m# initialise axes with data\u001b[0m\u001b[0;34m\u001b[0m\u001b[0;34m\u001b[0m\u001b[0;34m\u001b[0m\u001b[0m\n",
            "\u001b[0;32m/usr/local/lib/python3.7/dist-packages/gwpy/plot/plot.py\u001b[0m in \u001b[0;36m_init_figure\u001b[0;34m(self, **kwargs)\u001b[0m\n\u001b[1;32m    133\u001b[0m                 pyplot.new_figure_manager.__module__)\n\u001b[1;32m    134\u001b[0m             \u001b[0mcanvas\u001b[0m \u001b[0;34m=\u001b[0m \u001b[0mupstream_mod\u001b[0m\u001b[0;34m.\u001b[0m\u001b[0mFigureCanvasBase\u001b[0m\u001b[0;34m(\u001b[0m\u001b[0mself\u001b[0m\u001b[0;34m)\u001b[0m\u001b[0;34m\u001b[0m\u001b[0;34m\u001b[0m\u001b[0m\n\u001b[0;32m--> 135\u001b[0;31m             \u001b[0mmanager\u001b[0m \u001b[0;34m=\u001b[0m \u001b[0mupstream_mod\u001b[0m\u001b[0;34m.\u001b[0m\u001b[0mFigureManagerBase\u001b[0m\u001b[0;34m(\u001b[0m\u001b[0mcanvas\u001b[0m\u001b[0;34m,\u001b[0m \u001b[0;36m1\u001b[0m\u001b[0;34m)\u001b[0m\u001b[0;34m\u001b[0m\u001b[0;34m\u001b[0m\u001b[0m\n\u001b[0m\u001b[1;32m    136\u001b[0m         manager._cidgcf = manager.canvas.mpl_connect(\n\u001b[1;32m    137\u001b[0m             \u001b[0;34m'button_press_event'\u001b[0m\u001b[0;34m,\u001b[0m\u001b[0;34m\u001b[0m\u001b[0;34m\u001b[0m\u001b[0m\n",
            "\u001b[0;31mAttributeError\u001b[0m: module 'matplotlib.pyplot' has no attribute 'FigureManagerBase'"
          ]
        }
      ]
    },
    {
      "cell_type": "code",
      "source": [
        "from scipy.signal import get_window\n",
        "window = get_window('hann', gwpy_strain.size)\n",
        "strainwin = gwpy_strain * window"
      ],
      "metadata": {
        "id": "0gFb5qyvTeXE"
      },
      "execution_count": 13,
      "outputs": []
    },
    {
      "cell_type": "code",
      "source": [
        "fftamp = strainwin.fft().abs()\n",
        "plot = fftamp.plot(xscale=\"log\", yscale=\"log\")\n",
        "plot.show(warn=False)"
      ],
      "metadata": {
        "colab": {
          "base_uri": "https://localhost:8080/",
          "height": 432
        },
        "id": "vic6deV9TiJg",
        "outputId": "514307e6-6c44-47cd-878a-3d41b5339a05"
      },
      "execution_count": 14,
      "outputs": [
        {
          "output_type": "error",
          "ename": "AttributeError",
          "evalue": "ignored",
          "traceback": [
            "\u001b[0;31m---------------------------------------------------------------------------\u001b[0m",
            "\u001b[0;31mAttributeError\u001b[0m                            Traceback (most recent call last)",
            "\u001b[0;32m/usr/local/lib/python3.7/dist-packages/gwpy/plot/plot.py\u001b[0m in \u001b[0;36m_init_figure\u001b[0;34m(self, **kwargs)\u001b[0m\n\u001b[1;32m    129\u001b[0m         \u001b[0;32mtry\u001b[0m\u001b[0;34m:\u001b[0m\u001b[0;34m\u001b[0m\u001b[0;34m\u001b[0m\u001b[0m\n\u001b[0;32m--> 130\u001b[0;31m             \u001b[0mmanager\u001b[0m \u001b[0;34m=\u001b[0m \u001b[0mbackend_mod\u001b[0m\u001b[0;34m.\u001b[0m\u001b[0mnew_figure_manager_given_figure\u001b[0m\u001b[0;34m(\u001b[0m\u001b[0mnum\u001b[0m\u001b[0;34m,\u001b[0m \u001b[0mself\u001b[0m\u001b[0;34m)\u001b[0m\u001b[0;34m\u001b[0m\u001b[0;34m\u001b[0m\u001b[0m\n\u001b[0m\u001b[1;32m    131\u001b[0m         \u001b[0;32mexcept\u001b[0m \u001b[0mAttributeError\u001b[0m\u001b[0;34m:\u001b[0m\u001b[0;34m\u001b[0m\u001b[0;34m\u001b[0m\u001b[0m\n",
            "\u001b[0;31mAttributeError\u001b[0m: module 'ipykernel.pylab.backend_inline' has no attribute 'new_figure_manager_given_figure'",
            "\nDuring handling of the above exception, another exception occurred:\n",
            "\u001b[0;31mAttributeError\u001b[0m                            Traceback (most recent call last)",
            "\u001b[0;32m<ipython-input-14-da6ed345cac0>\u001b[0m in \u001b[0;36m<module>\u001b[0;34m()\u001b[0m\n\u001b[1;32m      1\u001b[0m \u001b[0mfftamp\u001b[0m \u001b[0;34m=\u001b[0m \u001b[0mstrainwin\u001b[0m\u001b[0;34m.\u001b[0m\u001b[0mfft\u001b[0m\u001b[0;34m(\u001b[0m\u001b[0;34m)\u001b[0m\u001b[0;34m.\u001b[0m\u001b[0mabs\u001b[0m\u001b[0;34m(\u001b[0m\u001b[0;34m)\u001b[0m\u001b[0;34m\u001b[0m\u001b[0;34m\u001b[0m\u001b[0m\n\u001b[0;32m----> 2\u001b[0;31m \u001b[0mplot\u001b[0m \u001b[0;34m=\u001b[0m \u001b[0mfftamp\u001b[0m\u001b[0;34m.\u001b[0m\u001b[0mplot\u001b[0m\u001b[0;34m(\u001b[0m\u001b[0mxscale\u001b[0m\u001b[0;34m=\u001b[0m\u001b[0;34m\"log\"\u001b[0m\u001b[0;34m,\u001b[0m \u001b[0myscale\u001b[0m\u001b[0;34m=\u001b[0m\u001b[0;34m\"log\"\u001b[0m\u001b[0;34m)\u001b[0m\u001b[0;34m\u001b[0m\u001b[0;34m\u001b[0m\u001b[0m\n\u001b[0m\u001b[1;32m      3\u001b[0m \u001b[0mplot\u001b[0m\u001b[0;34m.\u001b[0m\u001b[0mshow\u001b[0m\u001b[0;34m(\u001b[0m\u001b[0mwarn\u001b[0m\u001b[0;34m=\u001b[0m\u001b[0;32mFalse\u001b[0m\u001b[0;34m)\u001b[0m\u001b[0;34m\u001b[0m\u001b[0;34m\u001b[0m\u001b[0m\n",
            "\u001b[0;32m/usr/local/lib/python3.7/dist-packages/gwpy/frequencyseries/frequencyseries.py\u001b[0m in \u001b[0;36mplot\u001b[0;34m(self, xscale, **kwargs)\u001b[0m\n\u001b[1;32m    202\u001b[0m \u001b[0;34m\u001b[0m\u001b[0m\n\u001b[1;32m    203\u001b[0m         \u001b[0mkwargs\u001b[0m\u001b[0;34m.\u001b[0m\u001b[0mupdate\u001b[0m\u001b[0;34m(\u001b[0m\u001b[0mxscale\u001b[0m\u001b[0;34m=\u001b[0m\u001b[0mxscale\u001b[0m\u001b[0;34m)\u001b[0m\u001b[0;34m\u001b[0m\u001b[0;34m\u001b[0m\u001b[0m\n\u001b[0;32m--> 204\u001b[0;31m         \u001b[0;32mreturn\u001b[0m \u001b[0msuper\u001b[0m\u001b[0;34m(\u001b[0m\u001b[0;34m)\u001b[0m\u001b[0;34m.\u001b[0m\u001b[0mplot\u001b[0m\u001b[0;34m(\u001b[0m\u001b[0;34m**\u001b[0m\u001b[0mkwargs\u001b[0m\u001b[0;34m)\u001b[0m\u001b[0;34m\u001b[0m\u001b[0;34m\u001b[0m\u001b[0m\n\u001b[0m\u001b[1;32m    205\u001b[0m \u001b[0;34m\u001b[0m\u001b[0m\n\u001b[1;32m    206\u001b[0m     \u001b[0;32mdef\u001b[0m \u001b[0mifft\u001b[0m\u001b[0;34m(\u001b[0m\u001b[0mself\u001b[0m\u001b[0;34m)\u001b[0m\u001b[0;34m:\u001b[0m\u001b[0;34m\u001b[0m\u001b[0;34m\u001b[0m\u001b[0m\n",
            "\u001b[0;32m/usr/local/lib/python3.7/dist-packages/gwpy/types/series.py\u001b[0m in \u001b[0;36mplot\u001b[0;34m(self, method, **kwargs)\u001b[0m\n\u001b[1;32m    452\u001b[0m \u001b[0;34m\u001b[0m\u001b[0m\n\u001b[1;32m    453\u001b[0m         \u001b[0;31m# make plot\u001b[0m\u001b[0;34m\u001b[0m\u001b[0;34m\u001b[0m\u001b[0;34m\u001b[0m\u001b[0m\n\u001b[0;32m--> 454\u001b[0;31m         \u001b[0mplot\u001b[0m \u001b[0;34m=\u001b[0m \u001b[0mPlot\u001b[0m\u001b[0;34m(\u001b[0m\u001b[0mself\u001b[0m\u001b[0;34m,\u001b[0m \u001b[0mmethod\u001b[0m\u001b[0;34m=\u001b[0m\u001b[0mmethod\u001b[0m\u001b[0;34m,\u001b[0m \u001b[0;34m**\u001b[0m\u001b[0mkwargs\u001b[0m\u001b[0;34m)\u001b[0m\u001b[0;34m\u001b[0m\u001b[0;34m\u001b[0m\u001b[0m\n\u001b[0m\u001b[1;32m    455\u001b[0m \u001b[0;34m\u001b[0m\u001b[0m\n\u001b[1;32m    456\u001b[0m         \u001b[0;31m# set default y-axis label (xlabel is set by Plot())\u001b[0m\u001b[0;34m\u001b[0m\u001b[0;34m\u001b[0m\u001b[0;34m\u001b[0m\u001b[0m\n",
            "\u001b[0;32m/usr/local/lib/python3.7/dist-packages/gwpy/plot/plot.py\u001b[0m in \u001b[0;36m__init__\u001b[0;34m(self, *data, **kwargs)\u001b[0m\n\u001b[1;32m    106\u001b[0m         figure_kw = {key: kwargs.pop(key) for key in utils.FIGURE_PARAMS if\n\u001b[1;32m    107\u001b[0m                      key in kwargs}\n\u001b[0;32m--> 108\u001b[0;31m         \u001b[0mself\u001b[0m\u001b[0;34m.\u001b[0m\u001b[0m_init_figure\u001b[0m\u001b[0;34m(\u001b[0m\u001b[0;34m**\u001b[0m\u001b[0mfigure_kw\u001b[0m\u001b[0;34m)\u001b[0m\u001b[0;34m\u001b[0m\u001b[0;34m\u001b[0m\u001b[0m\n\u001b[0m\u001b[1;32m    109\u001b[0m \u001b[0;34m\u001b[0m\u001b[0m\n\u001b[1;32m    110\u001b[0m         \u001b[0;31m# initialise axes with data\u001b[0m\u001b[0;34m\u001b[0m\u001b[0;34m\u001b[0m\u001b[0;34m\u001b[0m\u001b[0m\n",
            "\u001b[0;32m/usr/local/lib/python3.7/dist-packages/gwpy/plot/plot.py\u001b[0m in \u001b[0;36m_init_figure\u001b[0;34m(self, **kwargs)\u001b[0m\n\u001b[1;32m    133\u001b[0m                 pyplot.new_figure_manager.__module__)\n\u001b[1;32m    134\u001b[0m             \u001b[0mcanvas\u001b[0m \u001b[0;34m=\u001b[0m \u001b[0mupstream_mod\u001b[0m\u001b[0;34m.\u001b[0m\u001b[0mFigureCanvasBase\u001b[0m\u001b[0;34m(\u001b[0m\u001b[0mself\u001b[0m\u001b[0;34m)\u001b[0m\u001b[0;34m\u001b[0m\u001b[0;34m\u001b[0m\u001b[0m\n\u001b[0;32m--> 135\u001b[0;31m             \u001b[0mmanager\u001b[0m \u001b[0;34m=\u001b[0m \u001b[0mupstream_mod\u001b[0m\u001b[0;34m.\u001b[0m\u001b[0mFigureManagerBase\u001b[0m\u001b[0;34m(\u001b[0m\u001b[0mcanvas\u001b[0m\u001b[0;34m,\u001b[0m \u001b[0;36m1\u001b[0m\u001b[0;34m)\u001b[0m\u001b[0;34m\u001b[0m\u001b[0;34m\u001b[0m\u001b[0m\n\u001b[0m\u001b[1;32m    136\u001b[0m         manager._cidgcf = manager.canvas.mpl_connect(\n\u001b[1;32m    137\u001b[0m             \u001b[0;34m'button_press_event'\u001b[0m\u001b[0;34m,\u001b[0m\u001b[0;34m\u001b[0m\u001b[0;34m\u001b[0m\u001b[0m\n",
            "\u001b[0;31mAttributeError\u001b[0m: module 'matplotlib.pyplot' has no attribute 'FigureManagerBase'"
          ]
        }
      ]
    },
    {
      "cell_type": "code",
      "source": [
        "asd = gwpy_strain.asd(fftlength=4, method=\"median\")\n",
        "plot = asd.plot()\n",
        "plot.show(warn=False)"
      ],
      "metadata": {
        "id": "47HAw14ZTqNZ"
      },
      "execution_count": null,
      "outputs": []
    },
    {
      "cell_type": "code",
      "source": [
        "ax = plot.gca()\n",
        "ax.set_xlim(10, 1400)\n",
        "ax.set_ylim(1e-24, 1e-20)\n",
        "plot"
      ],
      "metadata": {
        "id": "YTHMAS1QTtxF"
      },
      "execution_count": null,
      "outputs": []
    },
    {
      "cell_type": "code",
      "source": [
        "from gwosc.datasets import event_gps\n",
        "from gwpy.timeseries import TimeSeries\n",
        "gps = event_gps(gwpy_strain)\n",
        "print(\"GW170817 GPS:\", gps)"
      ],
      "metadata": {
        "id": "1t583QlYXOc0"
      },
      "execution_count": null,
      "outputs": []
    }
  ]
}